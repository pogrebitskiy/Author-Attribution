{
 "cells": [
  {
   "cell_type": "code",
   "execution_count": 5,
   "id": "initial_id",
   "metadata": {
    "collapsed": true,
    "ExecuteTime": {
     "end_time": "2024-04-01T04:20:20.942125Z",
     "start_time": "2024-04-01T04:20:20.939100Z"
    }
   },
   "outputs": [],
   "source": [
    "from models.SklearnClassifier import SklearnClassifier\n",
    "from sklearn.linear_model import LogisticRegression\n",
    "from sklearn.model_selection import train_test_split\n",
    "import utils\n",
    "import time"
   ]
  },
  {
   "cell_type": "code",
   "outputs": [],
   "source": [
    "X = utils.get_feature_matrix('../data/doc2vec.npy')\n",
    "y = utils.get_feature_matrix('../data/publications.npy')"
   ],
   "metadata": {
    "collapsed": false,
    "ExecuteTime": {
     "end_time": "2024-04-01T04:20:25.197997Z",
     "start_time": "2024-04-01T04:20:25.157476Z"
    }
   },
   "id": "d48b8b30eff331a8",
   "execution_count": 6
  },
  {
   "cell_type": "code",
   "outputs": [],
   "source": [
    "X_train, X_test, y_train, y_test = train_test_split(X, y, test_size=0.2, random_state=42)"
   ],
   "metadata": {
    "collapsed": false,
    "ExecuteTime": {
     "end_time": "2024-04-01T04:20:26.490442Z",
     "start_time": "2024-04-01T04:20:26.457569Z"
    }
   },
   "id": "f01898c07a637504",
   "execution_count": 7
  },
  {
   "cell_type": "code",
   "outputs": [],
   "source": [
    "lr_classifier = SklearnClassifier(LogisticRegression, C=1.0, max_iter=1000, n_jobs=-1)"
   ],
   "metadata": {
    "collapsed": false,
    "ExecuteTime": {
     "end_time": "2024-04-01T04:20:27.354153Z",
     "start_time": "2024-04-01T04:20:27.350894Z"
    }
   },
   "id": "a795e31a5d3df167",
   "execution_count": 8
  },
  {
   "cell_type": "code",
   "outputs": [
    {
     "name": "stdout",
     "output_type": "stream",
     "text": [
      "Training time:  23.895023822784424\n"
     ]
    }
   ],
   "source": [
    "start = time.time()\n",
    "lr_classifier.train(X_train, y_train)\n",
    "print('Training time: ', time.time() - start)"
   ],
   "metadata": {
    "collapsed": false,
    "ExecuteTime": {
     "end_time": "2024-04-01T04:20:52.050067Z",
     "start_time": "2024-04-01T04:20:28.150491Z"
    }
   },
   "id": "6fa423891313d35c",
   "execution_count": 9
  },
  {
   "cell_type": "code",
   "outputs": [
    {
     "data": {
      "text/plain": "{'Precision': 0.5286696471894872,\n 'Recall': 0.5477327439914756,\n 'F1': 0.526716444848129,\n 'Accuracy': 0.5477327439914756,\n 'Top-k Accuracy': 0.7924937842850941}"
     },
     "execution_count": 10,
     "metadata": {},
     "output_type": "execute_result"
    }
   ],
   "source": [
    "lr_classifier.evaluate(X_test, y_test, top_k=3)"
   ],
   "metadata": {
    "collapsed": false,
    "ExecuteTime": {
     "end_time": "2024-04-01T04:20:52.597888Z",
     "start_time": "2024-04-01T04:20:52.053016Z"
    }
   },
   "id": "398f5b129d2c3a0c",
   "execution_count": 10
  }
 ],
 "metadata": {
  "kernelspec": {
   "display_name": "Python 3",
   "language": "python",
   "name": "python3"
  },
  "language_info": {
   "codemirror_mode": {
    "name": "ipython",
    "version": 2
   },
   "file_extension": ".py",
   "mimetype": "text/x-python",
   "name": "python",
   "nbconvert_exporter": "python",
   "pygments_lexer": "ipython2",
   "version": "2.7.6"
  }
 },
 "nbformat": 4,
 "nbformat_minor": 5
}
