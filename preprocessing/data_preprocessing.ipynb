{
 "cells": [
  {
   "cell_type": "code",
   "execution_count": 57,
   "id": "initial_id",
   "metadata": {
    "collapsed": true,
    "ExecuteTime": {
     "end_time": "2024-04-04T05:54:08.112435Z",
     "start_time": "2024-04-04T05:54:07.888803Z"
    }
   },
   "outputs": [],
   "source": [
    "import pandas as pd\n",
    "from nltk.corpus import stopwords\n",
    "from transformers import BertTokenizer\n",
    "\n",
    "tokenizer = BertTokenizer.from_pretrained('bert-base-uncased')\n",
    "STOP_WORDS = set(stopwords.words('english'))\n",
    "MAX_LEN = 512"
   ]
  },
  {
   "cell_type": "code",
   "outputs": [],
   "source": [
    "# Load the data\n",
    "df1 = pd.read_csv('../data/articles1.csv', index_col=0)\n",
    "df2 = pd.read_csv('../data/articles2.csv', index_col=0)\n",
    "df3 = pd.read_csv('../data/articles3.csv', index_col=0)\n",
    "\n",
    "# Concatenate the data files\n",
    "df = pd.concat([df1, df2, df3])"
   ],
   "metadata": {
    "collapsed": false,
    "ExecuteTime": {
     "end_time": "2024-04-04T05:54:15.231675Z",
     "start_time": "2024-04-04T05:54:08.115331Z"
    }
   },
   "id": "86c512fc702920a",
   "execution_count": 58
  },
  {
   "cell_type": "code",
   "outputs": [],
   "source": [
    "# Drop unnecessary columns\n",
    "df = df.drop(columns=['title', 'date', 'year', 'month', 'url'])\n",
    "\n",
    "# Drop rows with NaN publication or author\n",
    "df = df.dropna(subset=['publication', 'author'], how='any')"
   ],
   "metadata": {
    "collapsed": false,
    "ExecuteTime": {
     "end_time": "2024-04-04T05:54:15.287830Z",
     "start_time": "2024-04-04T05:54:15.233515Z"
    }
   },
   "id": "789a3103bb8cab47",
   "execution_count": 59
  },
  {
   "cell_type": "code",
   "outputs": [],
   "source": [
    "# Only keep articles from the top 20 authors\n",
    "top_authors = df['author'].value_counts().head(20).index\n",
    "df = df[df['author'].isin(top_authors)].reset_index().drop('index', axis=1)"
   ],
   "metadata": {
    "collapsed": false,
    "ExecuteTime": {
     "end_time": "2024-04-04T05:54:15.329115Z",
     "start_time": "2024-04-04T05:54:15.291485Z"
    }
   },
   "id": "5251b40c09dbfd0c",
   "execution_count": 60
  },
  {
   "cell_type": "code",
   "outputs": [],
   "source": [
    "# Apply the cleaning function to the data\n",
    "df['clean_content'] = df['content'].apply(lambda x: x.lower())"
   ],
   "metadata": {
    "collapsed": false,
    "ExecuteTime": {
     "end_time": "2024-04-04T05:54:15.568302Z",
     "start_time": "2024-04-04T05:54:15.330541Z"
    }
   },
   "id": "9c5f27ca90ad673f",
   "execution_count": 61
  },
  {
   "cell_type": "code",
   "outputs": [],
   "source": "df.to_pickle('../data/cleaned_articles.pkl')",
   "metadata": {
    "collapsed": false,
    "ExecuteTime": {
     "end_time": "2024-04-04T05:54:15.772483Z",
     "start_time": "2024-04-04T05:54:15.569893Z"
    }
   },
   "id": "bc956835dc407d96",
   "execution_count": 62
  }
 ],
 "metadata": {
  "kernelspec": {
   "display_name": "Python 3",
   "language": "python",
   "name": "python3"
  },
  "language_info": {
   "codemirror_mode": {
    "name": "ipython",
    "version": 2
   },
   "file_extension": ".py",
   "mimetype": "text/x-python",
   "name": "python",
   "nbconvert_exporter": "python",
   "pygments_lexer": "ipython2",
   "version": "2.7.6"
  }
 },
 "nbformat": 4,
 "nbformat_minor": 5
}
