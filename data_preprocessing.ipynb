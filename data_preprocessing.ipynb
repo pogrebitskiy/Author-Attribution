{
 "cells": [
  {
   "cell_type": "code",
   "execution_count": 25,
   "id": "initial_id",
   "metadata": {
    "collapsed": true,
    "ExecuteTime": {
     "end_time": "2024-03-31T18:44:26.991359Z",
     "start_time": "2024-03-31T18:44:26.987421Z"
    }
   },
   "outputs": [],
   "source": [
    "import pandas as pd\n",
    "from nltk.stem import WordNetLemmatizer\n",
    "import contractions\n",
    "from nltk.corpus import stopwords\n",
    "from nltk.tokenize import word_tokenize\n",
    "\n",
    "STOP_WORDS = set(stopwords.words('english'))"
   ]
  },
  {
   "cell_type": "code",
   "outputs": [],
   "source": [
    "# Load the data\n",
    "df1 = pd.read_csv('articles1.csv', index_col=0)\n",
    "df2 = pd.read_csv('articles2.csv', index_col=0)\n",
    "df3 = pd.read_csv('articles3.csv', index_col=0)\n",
    "\n",
    "# Concatenate the data files\n",
    "df = pd.concat([df1, df2, df3])"
   ],
   "metadata": {
    "collapsed": false,
    "ExecuteTime": {
     "end_time": "2024-03-31T18:44:35.758607Z",
     "start_time": "2024-03-31T18:44:26.997862Z"
    }
   },
   "id": "86c512fc702920a",
   "execution_count": 26
  },
  {
   "cell_type": "code",
   "outputs": [],
   "source": [
    "# Drop unnecessary columns\n",
    "df = df.drop(columns=['title', 'date', 'year', 'month', 'url'])\n",
    "\n",
    "# Drop rows with NaN publication or author\n",
    "df = df.dropna(subset=['publication', 'author'], how='any').reset_index()"
   ],
   "metadata": {
    "collapsed": false,
    "ExecuteTime": {
     "end_time": "2024-03-31T18:44:35.845048Z",
     "start_time": "2024-03-31T18:44:35.761830Z"
    }
   },
   "id": "789a3103bb8cab47",
   "execution_count": 27
  },
  {
   "cell_type": "code",
   "outputs": [],
   "source": [
    "def clean_content(row):\n",
    "    \"\"\"\n",
    "    For each row in the data, clean the content of the article\n",
    "    by removing contractions, lowercasing the text, removing special characters,\n",
    "    removing stopwords, and lemmatizing the words.\n",
    "    :param row: pd.Series\n",
    "    \"\"\"\n",
    "    print(f'{row.name}\\r', end='')\n",
    "    content = row['content']\n",
    "    \n",
    "    # Remove contractions\n",
    "    content = contractions.fix(content)\n",
    "    \n",
    "    # Lowercase the text\n",
    "    content = content.lower()\n",
    "    \n",
    "    # Remove special characters\n",
    "    content = content.replace('\\n', ' ').replace('\\r', ' ').replace('\\t', ' ')\n",
    "    \n",
    "    # Remove stopwords\n",
    "    content = ' '.join([word for word in content.split() if word not in STOP_WORDS])\n",
    "    \n",
    "    # Lemmatize the words\n",
    "    lemmatizer = WordNetLemmatizer()\n",
    "    content = ' '.join([lemmatizer.lemmatize(word) for word in content.split()])\n",
    "    \n",
    "    row['tokens'] = word_tokenize(content)\n",
    "    \n",
    "    return row"
   ],
   "metadata": {
    "collapsed": false,
    "ExecuteTime": {
     "end_time": "2024-03-31T18:44:35.853388Z",
     "start_time": "2024-03-31T18:44:35.847232Z"
    }
   },
   "id": "68af7582a8c0d690",
   "execution_count": 28
  },
  {
   "cell_type": "code",
   "outputs": [
    {
     "name": "stdout",
     "output_type": "stream",
     "text": [
      "126693\r"
     ]
    }
   ],
   "source": [
    "# Apply the cleaning function to the data\n",
    "df = df.apply(clean_content, axis=1)"
   ],
   "metadata": {
    "collapsed": false,
    "ExecuteTime": {
     "end_time": "2024-03-31T18:58:15.224165Z",
     "start_time": "2024-03-31T18:44:35.856832Z"
    }
   },
   "id": "9c5f27ca90ad673f",
   "execution_count": 29
  },
  {
   "cell_type": "code",
   "outputs": [],
   "source": [
    "df.drop('index', axis=1, inplace=True)"
   ],
   "metadata": {
    "collapsed": false,
    "ExecuteTime": {
     "end_time": "2024-03-31T18:58:15.258457Z",
     "start_time": "2024-03-31T18:58:15.226328Z"
    }
   },
   "id": "61f084498bff8c0f",
   "execution_count": 30
  },
  {
   "cell_type": "code",
   "outputs": [],
   "source": [
    "df.to_pickle('cleaned_articles.pkl')"
   ],
   "metadata": {
    "collapsed": false,
    "ExecuteTime": {
     "end_time": "2024-03-31T18:58:44.111950Z",
     "start_time": "2024-03-31T18:58:15.260652Z"
    }
   },
   "id": "e46e13ebed917ec0",
   "execution_count": 31
  }
 ],
 "metadata": {
  "kernelspec": {
   "display_name": "Python 3",
   "language": "python",
   "name": "python3"
  },
  "language_info": {
   "codemirror_mode": {
    "name": "ipython",
    "version": 2
   },
   "file_extension": ".py",
   "mimetype": "text/x-python",
   "name": "python",
   "nbconvert_exporter": "python",
   "pygments_lexer": "ipython2",
   "version": "2.7.6"
  }
 },
 "nbformat": 4,
 "nbformat_minor": 5
}
